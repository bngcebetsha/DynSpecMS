{
 "cells": [
  {
   "cell_type": "code",
   "execution_count": null,
   "metadata": {},
   "outputs": [],
   "source": [
    "from astropy.io import fits\n",
    "from astropy.wcs import WCS\n",
    "import matplotlib.pyplot as plt\n",
    "import numpy as np\n",
    "from astropy import units as u\n",
    "\n",
    "from matplotlib.backends.backend_pdf import PdfPages\n",
    "from matplotlib import patches\n",
    "from matplotlib.patches import Ellipse\n",
    "from decimal import Decimal"
   ]
  },
  {
   "cell_type": "code",
   "execution_count": null,
   "metadata": {},
   "outputs": [],
   "source": [
    "plt.rcParams['font.size'] = 7"
   ]
  },
  {
   "cell_type": "code",
   "execution_count": null,
   "metadata": {},
   "outputs": [],
   "source": [
    "target = 'TARGET/1556208112_14:29:42.950_-62:40:46.200.fits'\n",
    "target_w = 'TARGET_W/1556208112_14:29:42.950_-62:40:46.200.W.fits'\n",
    "\n",
    "target_hdu = fits.open(target)[0]\n",
    "target_w_hdu = fits.open(target_w)[0]\n",
    "\n",
    "data = target_hdu.data\n",
    "weights = target_w_hdu.data\n",
    "# print(target_hdu.shape)\n",
    "# print(target_w_hdu.shape)\n",
    "# print(target_hdu.header)"
   ]
  },
  {
   "cell_type": "code",
   "execution_count": null,
   "metadata": {},
   "outputs": [],
   "source": [
    "norm_w = np.sqrt(weights)\n",
    "for i in range(4):\n",
    "    data[i, :, :] = data[i, :, :] * norm_w * np.cbrt(data[i, :, :])\n",
    "\n",
    "print(\"--- Stats ---\")\n",
    "print(\"Min: \", np.min(data[s]))\n",
    "print(\"Max: \", np.max(data[s]))\n",
    "print(\"Noise: \", np.std(data[s]))\n",
    "print(\"Mean: \", np.mean(data[s]))"
   ]
  },
  {
   "cell_type": "markdown",
   "metadata": {},
   "source": [
    "# Stokes I, Q, U, V Plotted in order below\n",
    "```python\n",
    "I = data[0, :, :]\n",
    "Q = data[1, :, :]\n",
    "U = data[2, :, :]\n",
    "V = data[3, :, :]\n",
    "```"
   ]
  },
  {
   "cell_type": "code",
   "execution_count": null,
   "metadata": {},
   "outputs": [],
   "source": [
    "def plot_stokes(d, s, t0=6325, t1=6345):\n",
    "    \"\"\"Plot dynamic spectra for given data array and Stokes param\n",
    "    \n",
    "    Parameters\n",
    "    ----------\n",
    "    d: array\n",
    "        The data array extracted from fits file\n",
    "    s: str\n",
    "        Stokes parameter of interest\n",
    "    t0: int\n",
    "        TBD - will be the `start_time` to zoom-in on\n",
    "    t1: int\n",
    "        TBD - will be the `end_time to` zoom-in on\n",
    "    \"\"\"\n",
    "    # Slice in time at channel 15 arbitrarily\n",
    "    print(np.argmax(d[s, 15, :]))\n",
    "    data_sl = d[s, :, t0:t1]\n",
    "\n",
    "    # Plot\n",
    "    plt.imshow(data_sl, origin='lower', cmap='viridis', aspect='auto', vmin=np.min(data_sl), vmax=np.max(data_sl))\n",
    "    cbar = plt.colorbar(pad=.07)\n",
    "    cbar.set_label(r'$Jy/b$', size=7)"
   ]
  },
  {
   "cell_type": "code",
   "execution_count": null,
   "metadata": {},
   "outputs": [],
   "source": [
    "plot_stokes(data, 0)"
   ]
  },
  {
   "cell_type": "code",
   "execution_count": null,
   "metadata": {},
   "outputs": [],
   "source": [
    "plot_stokes(data, 1)"
   ]
  },
  {
   "cell_type": "code",
   "execution_count": null,
   "metadata": {},
   "outputs": [],
   "source": [
    "plot_stokes(data, 2)"
   ]
  },
  {
   "cell_type": "code",
   "execution_count": null,
   "metadata": {},
   "outputs": [],
   "source": [
    "plot_stokes(data, 3)"
   ]
  },
  {
   "cell_type": "code",
   "execution_count": null,
   "metadata": {},
   "outputs": [],
   "source": []
  }
 ],
 "metadata": {
  "kernelspec": {
   "display_name": "Python 3 (ipykernel)",
   "language": "python",
   "name": "python3"
  },
  "language_info": {
   "codemirror_mode": {
    "name": "ipython",
    "version": 3
   },
   "file_extension": ".py",
   "mimetype": "text/x-python",
   "name": "python",
   "nbconvert_exporter": "python",
   "pygments_lexer": "ipython3",
   "version": "3.8.10"
  }
 },
 "nbformat": 4,
 "nbformat_minor": 2
}
