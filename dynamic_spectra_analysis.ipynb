{
 "cells": [
  {
   "cell_type": "code",
   "execution_count": null,
   "metadata": {},
   "outputs": [],
   "source": [
    "from astropy.io import fits\n",
    "from astropy.wcs import WCS\n",
    "import matplotlib.pyplot as plt\n",
    "import numpy as np\n",
    "from astropy import units as u\n",
    "\n",
    "from matplotlib.backends.backend_pdf import PdfPages\n",
    "from matplotlib import patches\n",
    "from matplotlib.patches import Ellipse\n",
    "from decimal import Decimal"
   ]
  },
  {
   "cell_type": "code",
   "execution_count": null,
   "metadata": {},
   "outputs": [],
   "source": [
    "plt.rcParams['font.size'] = 7"
   ]
  },
  {
   "cell_type": "code",
   "execution_count": null,
   "metadata": {},
   "outputs": [],
   "source": [
    "target = '~/Downloads/MSName_RandChunk0_DynSpecs_1556208112/TARGET/1556208112_14:29:42.950_-62:40:46.200.fits'\n",
    "target_w = '~/Downloads/MSName_RandChunk0_DynSpecs_1556208112/TARGET_W/1556208112_14:29:42.950_-62:40:46.200.W.fits'\n",
    "\n",
    "target_hdu = fits.open(target)[0]\n",
    "target_w_hdu = fits.open(target_w)[0]\n",
    "\n",
    "data = target_hdu.data\n",
    "weights = target_w_hdu.data\n",
    "# print(target_hdu.shape)\n",
    "# print(target_w_hdu.shape)\n",
    "# print(target_hdu.header)"
   ]
  },
  {
   "cell_type": "code",
   "execution_count": null,
   "metadata": {},
   "outputs": [],
   "source": [
    "norm_w = np.sqrt(weights)\n",
    "for i in range(data.shape[0]):\n",
    "    data[i, :, :] = data[i, :, :] * norm_w * np.cbrt(data[i, :, :])\n",
    "\n",
    "print('--- Data has shape ---')\n",
    "print('(stokes, freq, time)')\n",
    "print(data.shape)"
   ]
  },
  {
   "cell_type": "markdown",
   "metadata": {},
   "source": [
    "# Stokes I, Q, U, V Plotted in order below\n",
    "```python\n",
    "I = data[0, :, :]\n",
    "Q = data[1, :, :]\n",
    "U = data[2, :, :]\n",
    "V = data[3, :, :]\n",
    "```\n",
    "\n",
    "For now, we slice the time (t0, t1):\n",
    "```sh\n",
    "6325, 6345\n",
    "12953, 12993\n",
    "19803, 19843\n",
    "```"
   ]
  },
  {
   "cell_type": "code",
   "execution_count": null,
   "metadata": {},
   "outputs": [],
   "source": [
    "def plot_stokes(d, symbol, stokes, t0, t1):\n",
    "    \"\"\"Plot dynamic spectra for given data array and Stokes param\n",
    "    \n",
    "    Parameters\n",
    "    ----------\n",
    "    d: array\n",
    "        The data array extracted from fits file\n",
    "    symbol: str\n",
    "        Stokes parameter of interest mapped ('I', 'Q', 'U', 'V')\n",
    "    stokes: int\n",
    "        Stokes parameter of interest mapped ('I', 'Q', 'U', 'V')->(0, 1, 2, 3)\n",
    "    t0: int\n",
    "        `start_time` to zoom-in on\n",
    "    t1: int\n",
    "        `end_time to` zoom-in on\n",
    "    \"\"\"\n",
    "    print(\"-------------------------------------------\")\n",
    "    # d.shape -> (stokes, freq, time)\n",
    "    data_sl = d[stokes, :, t0:t1]\n",
    "    # Slice in time at channel 15 arbitrarily\n",
    "    print(\"--- Stats for Stokes {} ---\".format(symbol))\n",
    "    print(\"Min: \", np.min(data_sl))\n",
    "    print(\"Max: \", np.max(data_sl))\n",
    "    print(\"Noise: \", np.std(data_sl))\n",
    "    print(\"Mean: \", np.mean(data_sl))\n",
    "    # print(np.argmax(d[s, f, :]))\n",
    "\n",
    "    # Plot\n",
    "    plt.title(symbol)\n",
    "    plt.imshow(data_sl, origin='lower', cmap='viridis', aspect='auto', vmin=np.min(data_sl), vmax=np.max(data_sl))\n",
    "    cbar = plt.colorbar(pad=.07)\n",
    "    cbar.set_label(r'$Jy/B$', size=7)"
   ]
  },
  {
   "cell_type": "code",
   "execution_count": null,
   "metadata": {},
   "outputs": [],
   "source": [
    "# probably best to split the time into bins of 40 or of 80\n",
    "for i in range(0, data.shape[2], 80):\n",
    "    t0, t1 = i, i+80"
   ]
  },
  {
   "cell_type": "code",
   "execution_count": null,
   "metadata": {},
   "outputs": [],
   "source": [
    "plot_stokes(data, 'Stokes I', 0, t0, t1)"
   ]
  },
  {
   "cell_type": "code",
   "execution_count": null,
   "metadata": {},
   "outputs": [],
   "source": [
    "plot_stokes(data, 'Stokes Q', 1, t0, t1)"
   ]
  },
  {
   "cell_type": "code",
   "execution_count": null,
   "metadata": {},
   "outputs": [],
   "source": [
    "plot_stokes(data, 'Stokes U', 2, t0, t1)"
   ]
  },
  {
   "cell_type": "code",
   "execution_count": null,
   "metadata": {},
   "outputs": [],
   "source": [
    "plot_stokes(data, 'Stokes V', 3, t0, t1)"
   ]
  },
  {
   "cell_type": "code",
   "execution_count": null,
   "metadata": {},
   "outputs": [],
   "source": []
  }
 ],
 "metadata": {
  "kernelspec": {
   "display_name": "Python 3 (ipykernel)",
   "language": "python",
   "name": "python3"
  },
  "language_info": {
   "codemirror_mode": {
    "name": "ipython",
    "version": 3
   },
   "file_extension": ".py",
   "mimetype": "text/x-python",
   "name": "python",
   "nbconvert_exporter": "python",
   "pygments_lexer": "ipython3",
   "version": "3.8.10"
  }
 },
 "nbformat": 4,
 "nbformat_minor": 2
}
